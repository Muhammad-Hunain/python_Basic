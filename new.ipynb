{
 "cells": [
  {
   "cell_type": "markdown",
   "id": "fd8f7f15",
   "metadata": {},
   "source": [
    "# print Topic"
   ]
  },
  {
   "cell_type": "code",
   "execution_count": 10,
   "id": "8714041c",
   "metadata": {},
   "outputs": [
    {
     "name": "stdout",
     "output_type": "stream",
     "text": [
      "Hello\n",
      "World\t\"smit\"\\\n"
     ]
    }
   ],
   "source": [
    "print(\"Hello\\nWorld\\t\\\"smit\\\"\\\\\")"
   ]
  },
  {
   "cell_type": "code",
   "execution_count": 1,
   "id": "a1f103db",
   "metadata": {},
   "outputs": [
    {
     "name": "stdout",
     "output_type": "stream",
     "text": [
      "Hello\n",
      "World\t\"smit\"\\\n"
     ]
    }
   ],
   "source": [
    "print(\"Hello\\nWorld\\t\\\"smit\\\"\\\\\")"
   ]
  },
  {
   "cell_type": "code",
   "execution_count": 3,
   "id": "5607a476",
   "metadata": {},
   "outputs": [
    {
     "name": "stdout",
     "output_type": "stream",
     "text": [
      "3.9.7 (default, Sep 16 2021, 16:59:28) [MSC v.1916 64 bit (AMD64)]\n"
     ]
    }
   ],
   "source": [
    "import sys\n",
    "print(sys.version)"
   ]
  },
  {
   "cell_type": "code",
   "execution_count": 6,
   "id": "a8220963",
   "metadata": {},
   "outputs": [
    {
     "name": "stdout",
     "output_type": "stream",
     "text": [
      "2022-02-19 12:33:31.346113\n"
     ]
    }
   ],
   "source": [
    "from datetime import datetime  \n",
    "print(datetime.now())"
   ]
  },
  {
   "cell_type": "code",
   "execution_count": 27,
   "id": "f479a0fb",
   "metadata": {},
   "outputs": [
    {
     "name": "stdout",
     "output_type": "stream",
     "text": [
      "Zubair\n"
     ]
    }
   ],
   "source": [
    "name =\"Zubair\"\n",
    "print(name)"
   ]
  },
  {
   "cell_type": "code",
   "execution_count": 31,
   "id": "84f76ddf",
   "metadata": {},
   "outputs": [
    {
     "name": "stdout",
     "output_type": "stream",
     "text": [
      "30\n"
     ]
    }
   ],
   "source": [
    "name +=10\n",
    "print(name)"
   ]
  },
  {
   "cell_type": "markdown",
   "id": "4623239b",
   "metadata": {},
   "source": [
    "# concatenation(str to str)"
   ]
  },
  {
   "cell_type": "code",
   "execution_count": 34,
   "id": "73a0def0",
   "metadata": {},
   "outputs": [
    {
     "name": "stdout",
     "output_type": "stream",
     "text": [
      "omer minhas\n"
     ]
    }
   ],
   "source": [
    "firstname = \"omer\"\n",
    "lastname=\"minhas\"\n",
    "print(firstname+\" \"+lastname)"
   ]
  },
  {
   "cell_type": "markdown",
   "id": "cf86180c",
   "metadata": {},
   "source": [
    "# operand or opeator"
   ]
  },
  {
   "cell_type": "code",
   "execution_count": 45,
   "id": "dab4bf1b",
   "metadata": {},
   "outputs": [
    {
     "name": "stdout",
     "output_type": "stream",
     "text": [
      "8\n"
     ]
    }
   ],
   "source": [
    "a1=100\n",
    "b1=24\n",
    "c1= (2 + 2 ) * 2\n",
    "print(c1)"
   ]
  },
  {
   "cell_type": "markdown",
   "id": "853f7ffa",
   "metadata": {},
   "source": [
    "# a or b =>operand\n",
    "## +=>operator"
   ]
  },
  {
   "cell_type": "code",
   "execution_count": 6,
   "id": "2eec890a",
   "metadata": {},
   "outputs": [
    {
     "name": "stdout",
     "output_type": "stream",
     "text": [
      "Enter Value : 4\n",
      "Enter Value : 6\n",
      "10\n"
     ]
    }
   ],
   "source": [
    "a =int(input(\"Enter Value : \"))\n",
    "b = int(input(\"Enter Value : \"))\n",
    "print(a+b)"
   ]
  },
  {
   "cell_type": "markdown",
   "id": "f6c075f4",
   "metadata": {},
   "source": [
    "# input type =>string"
   ]
  },
  {
   "cell_type": "code",
   "execution_count": 26,
   "id": "92d96c86",
   "metadata": {},
   "outputs": [
    {
     "name": "stdout",
     "output_type": "stream",
     "text": [
      "Greater\n"
     ]
    }
   ],
   "source": [
    "a =12\n",
    "if a>10 : \n",
    "     print(\"Greater\")\n",
    "elif a<10:\n",
    "    print(\"Less\")\n",
    "else : \n",
    "    print(\"Equal\")"
   ]
  },
  {
   "cell_type": "code",
   "execution_count": 27,
   "id": "21005709",
   "metadata": {},
   "outputs": [],
   "source": [
    "a = int(input (\"Enter First Number \"))\n",
    "b = int(input (\"Enter First Number \"))\n",
    "op = input(\"Enter Operator\")\n",
    "if op == \"+\" :  \n",
    "    print(a+b)\n",
    "    \n",
    "\n",
    "elif op == \"-\" :\n",
    "    \n",
    "    print(a-b)\n",
    "    \n",
    "elif op == \"%\" :\n",
    "    \n",
    "    print(a%b)\n",
    "    "
   ]
  },
  {
   "cell_type": "markdown",
   "id": "adc10f80",
   "metadata": {},
   "source": [
    "# List =>collection of element"
   ]
  },
  {
   "cell_type": "markdown",
   "id": "c693c43f",
   "metadata": {},
   "source": [
    "# 1) HOMOGENOUS(sdt)\n",
    "# 2) HETEGENOUS(ddt)"
   ]
  },
  {
   "cell_type": "code",
   "execution_count": 38,
   "id": "1304164e",
   "metadata": {},
   "outputs": [
    {
     "name": "stdout",
     "output_type": "stream",
     "text": [
      "[1, 2, 3, 4, 'asad', True]\n"
     ]
    }
   ],
   "source": [
    "A =[1,2,3,4,\"asad\",True]\n",
    "print(A)"
   ]
  },
  {
   "cell_type": "code",
   "execution_count": 37,
   "id": "9b7aa2e1",
   "metadata": {},
   "outputs": [
    {
     "data": {
      "text/plain": [
       "[1, 2, 3, 4, 'asad', True, 12]"
      ]
     },
     "execution_count": 37,
     "metadata": {},
     "output_type": "execute_result"
    }
   ],
   "source": [
    "A.append(12)\n",
    "A "
   ]
  },
  {
   "cell_type": "code",
   "execution_count": 54,
   "id": "bb65c619",
   "metadata": {},
   "outputs": [
    {
     "data": {
      "text/plain": [
       "[1, 2, 3, 'smit', 'smit', 'smit', 'smit', 4, 'asad', True]"
      ]
     },
     "execution_count": 54,
     "metadata": {},
     "output_type": "execute_result"
    }
   ],
   "source": [
    "A.insert(3,\"smit\")\n",
    "A"
   ]
  },
  {
   "cell_type": "code",
   "execution_count": 52,
   "id": "17e71b9c",
   "metadata": {},
   "outputs": [
    {
     "data": {
      "text/plain": [
       "[4, 'asad']"
      ]
     },
     "execution_count": 52,
     "metadata": {},
     "output_type": "execute_result"
    }
   ],
   "source": [
    "A[-3:-1]"
   ]
  },
  {
   "cell_type": "code",
   "execution_count": 53,
   "id": "9ed2fff9",
   "metadata": {},
   "outputs": [],
   "source": [
    "# A[start,end-1]"
   ]
  },
  {
   "cell_type": "code",
   "execution_count": 57,
   "id": "3760aa17",
   "metadata": {},
   "outputs": [
    {
     "data": {
      "text/plain": [
       "['smit', 'smit', 'smit', 'smit', 4, 'asad', True]"
      ]
     },
     "execution_count": 57,
     "metadata": {},
     "output_type": "execute_result"
    }
   ],
   "source": [
    "del  A[0]\n",
    "A"
   ]
  },
  {
   "cell_type": "code",
   "execution_count": 67,
   "id": "fac659b0",
   "metadata": {},
   "outputs": [
    {
     "data": {
      "text/plain": [
       "[1, 2, 3, 4, 5]"
      ]
     },
     "execution_count": 67,
     "metadata": {},
     "output_type": "execute_result"
    }
   ],
   "source": [
    "A=[1,2,3,4,5]\n",
    "A"
   ]
  },
  {
   "cell_type": "code",
   "execution_count": 68,
   "id": "7e61a8bb",
   "metadata": {},
   "outputs": [
    {
     "data": {
      "text/plain": [
       "[2, 3, 4, 5]"
      ]
     },
     "execution_count": 68,
     "metadata": {},
     "output_type": "execute_result"
    }
   ],
   "source": [
    "del A[0]\n",
    "A"
   ]
  },
  {
   "cell_type": "code",
   "execution_count": 69,
   "id": "56e086a6",
   "metadata": {},
   "outputs": [],
   "source": [
    "A.remove(4)"
   ]
  },
  {
   "cell_type": "code",
   "execution_count": 80,
   "id": "241db136",
   "metadata": {},
   "outputs": [
    {
     "data": {
      "text/plain": [
       "['asad', 'omer', 'asad', 34, 'omer']"
      ]
     },
     "execution_count": 80,
     "metadata": {},
     "output_type": "execute_result"
    }
   ],
   "source": [
    "A=[\"asad\",\"omer\",\"asad\",34,\"omer\"]\n",
    "A"
   ]
  },
  {
   "cell_type": "code",
   "execution_count": 73,
   "id": "a5494e29",
   "metadata": {},
   "outputs": [],
   "source": [
    "A.remove(\"asad\")"
   ]
  },
  {
   "cell_type": "code",
   "execution_count": 79,
   "id": "8975fd1f",
   "metadata": {},
   "outputs": [
    {
     "data": {
      "text/plain": [
       "['omer', 'asad']"
      ]
     },
     "execution_count": 79,
     "metadata": {},
     "output_type": "execute_result"
    }
   ],
   "source": [
    "A"
   ]
  },
  {
   "cell_type": "code",
   "execution_count": 77,
   "id": "98847b79",
   "metadata": {},
   "outputs": [
    {
     "data": {
      "text/plain": [
       "34"
      ]
     },
     "execution_count": 77,
     "metadata": {},
     "output_type": "execute_result"
    }
   ],
   "source": [
    "A.pop()"
   ]
  },
  {
   "cell_type": "code",
   "execution_count": 78,
   "id": "6ecb47b5",
   "metadata": {},
   "outputs": [
    {
     "data": {
      "text/plain": [
       "['omer', 'asad']"
      ]
     },
     "execution_count": 78,
     "metadata": {},
     "output_type": "execute_result"
    }
   ],
   "source": [
    "A"
   ]
  },
  {
   "cell_type": "code",
   "execution_count": 101,
   "id": "457ba62d",
   "metadata": {},
   "outputs": [
    {
     "name": "stdout",
     "output_type": "stream",
     "text": [
      "sALARY omer\n",
      "asadNo salary\n",
      "sALARY zubair\n",
      "sALARY shoaib\n",
      "sALARY Faisal\n",
      "sALARY Umair\n",
      "umerNo salary\n",
      "sALARY Aneel\n"
     ]
    }
   ],
   "source": [
    "arr=[\"omer\",\"asad\",\"zubair\",\"shoaib\",\"Faisal\",\"Umair\",\"umer\",\"Aneel\"]\n",
    "for i in range(0,len(arr)):\n",
    "   \n",
    "    if arr[i]== \"asad\" or arr[i]==\"umer\":\n",
    "        print(arr[i] + \"No salary\" )\n",
    "        \n",
    "    else:\n",
    "        \n",
    "        print(\"sALARY  :\"+ arr[i])\n",
    "    "
   ]
  },
  {
   "cell_type": "code",
   "execution_count": 116,
   "id": "d199d2a4",
   "metadata": {},
   "outputs": [
    {
     "name": "stdout",
     "output_type": "stream",
     "text": [
      "12000\n",
      "2400.0\n",
      "200000\n",
      "no commision\n",
      "10000\n",
      "2000.0\n",
      "4000\n",
      "800.0\n",
      "[14400.0, 200000, 12000.0, 4800.0]\n"
     ]
    }
   ],
   "source": [
    "arr1 = [12000,200000,10000,4000]\n",
    "for i in range(0,len(arr1)):\n",
    "    print(arr1[i])\n",
    "    if(arr1[i]>100000):\n",
    "        print(\"no commision\")\n",
    "    else:\n",
    "        a = (arr1[i]/100)*20\n",
    "        print(a)\n",
    "        arr1[i] =arr1[i]+a\n",
    "        \n",
    "print(arr1)\n",
    "   \n",
    "    \n"
   ]
  },
  {
   "cell_type": "code",
   "execution_count": null,
   "id": "189e8a72",
   "metadata": {},
   "outputs": [],
   "source": []
  }
 ],
 "metadata": {
  "kernelspec": {
   "display_name": "Python 3 (ipykernel)",
   "language": "python",
   "name": "python3"
  },
  "language_info": {
   "codemirror_mode": {
    "name": "ipython",
    "version": 3
   },
   "file_extension": ".py",
   "mimetype": "text/x-python",
   "name": "python",
   "nbconvert_exporter": "python",
   "pygments_lexer": "ipython3",
   "version": "3.9.7"
  }
 },
 "nbformat": 4,
 "nbformat_minor": 5
}
