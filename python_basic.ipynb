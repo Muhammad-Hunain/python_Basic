{
 "cells": [
  {
   "cell_type": "markdown",
   "id": "97d3ed20",
   "metadata": {},
   "source": [
    "# Introduction To Python"
   ]
  },
  {
   "cell_type": "code",
   "execution_count": 2,
   "id": "40fcffcf",
   "metadata": {},
   "outputs": [
    {
     "name": "stdout",
     "output_type": "stream",
     "text": [
      "Hello\n",
      "World\n"
     ]
    }
   ],
   "source": [
    "print(\"Hello\\nWorld\")"
   ]
  },
  {
   "cell_type": "code",
   "execution_count": 3,
   "id": "ea98e2aa",
   "metadata": {},
   "outputs": [
    {
     "name": "stdout",
     "output_type": "stream",
     "text": [
      "Hello\tWorld\n"
     ]
    }
   ],
   "source": [
    "print(\"Hello\\tWorld\")"
   ]
  },
  {
   "cell_type": "code",
   "execution_count": 7,
   "id": "c50e8689",
   "metadata": {},
   "outputs": [
    {
     "name": "stdout",
     "output_type": "stream",
     "text": [
      "'Hello World '\n"
     ]
    }
   ],
   "source": [
    "print(\"\\'Hello World '\")"
   ]
  },
  {
   "cell_type": "code",
   "execution_count": 8,
   "id": "e1e3ad96",
   "metadata": {},
   "outputs": [
    {
     "name": "stdout",
     "output_type": "stream",
     "text": [
      "3.9.7 (default, Sep 16 2021, 16:59:28) [MSC v.1916 64 bit (AMD64)]\n"
     ]
    }
   ],
   "source": [
    "import sys\n",
    "print(sys.version)"
   ]
  },
  {
   "cell_type": "markdown",
   "id": "10cea6ba",
   "metadata": {},
   "source": [
    "# Date\n",
    "\n",
    "from datetime import datetime\n",
    "now = datetime.now()\n",
    "print(now)"
   ]
  },
  {
   "cell_type": "code",
   "execution_count": 12,
   "id": "67126f19",
   "metadata": {},
   "outputs": [
    {
     "name": "stdout",
     "output_type": "stream",
     "text": [
      "Muhammad Hunain\n"
     ]
    }
   ],
   "source": [
    "name = \"Muhammad Hunain\"\n",
    "print(name)"
   ]
  },
  {
   "cell_type": "code",
   "execution_count": 17,
   "id": "02f83f6a",
   "metadata": {},
   "outputs": [
    {
     "name": "stdout",
     "output_type": "stream",
     "text": [
      "45\n"
     ]
    }
   ],
   "source": [
    "no +=15\n",
    "print(no)"
   ]
  },
  {
   "cell_type": "markdown",
   "id": "b1b8b7f9",
   "metadata": {},
   "source": [
    "# concatenation  Str to Str"
   ]
  },
  {
   "cell_type": "code",
   "execution_count": 18,
   "id": "914caf70",
   "metadata": {},
   "outputs": [
    {
     "name": "stdout",
     "output_type": "stream",
     "text": [
      "muhammad Hunain Muhammmad  Hammad\n"
     ]
    }
   ],
   "source": [
    "fname = \"muhammad Hunain\"\n",
    "lname = \"Muhammmad  Hammad\"\n",
    "print(fname+\" \"+lname);"
   ]
  },
  {
   "cell_type": "markdown",
   "id": "ec0ae02f",
   "metadata": {},
   "source": [
    "# operand to operator"
   ]
  },
  {
   "cell_type": "code",
   "execution_count": 19,
   "id": "1c1c71f2",
   "metadata": {},
   "outputs": [
    {
     "name": "stdout",
     "output_type": "stream",
     "text": [
      "8\n"
     ]
    }
   ],
   "source": [
    "a=3\n",
    "b=5\n",
    "print(a+b)"
   ]
  },
  {
   "cell_type": "code",
   "execution_count": 20,
   "id": "20b73d23",
   "metadata": {},
   "outputs": [
    {
     "name": "stdout",
     "output_type": "stream",
     "text": [
      "Enter Number one12\n",
      "Enter Number Two34\n",
      "46\n"
     ]
    }
   ],
   "source": [
    "a = int(input(\"Enter Number one\"));\n",
    "b = int(input(\"Enter Number Two\"));\n",
    "print(a+b);\n"
   ]
  },
  {
   "cell_type": "markdown",
   "id": "85d778d0",
   "metadata": {},
   "source": [
    "# if else"
   ]
  },
  {
   "cell_type": "code",
   "execution_count": 24,
   "id": "c5313119",
   "metadata": {},
   "outputs": [
    {
     "name": "stdout",
     "output_type": "stream",
     "text": [
      "Nothing\n"
     ]
    }
   ],
   "source": [
    "a=10;\n",
    "if(a>12):\n",
    "    print(\"Greater\")\n",
    "elif(a!=12):\n",
    "    print(\"Nothing\")\n",
    "elif(a<12):\n",
    "    print(\"less then\")\n",
    "else:\n",
    "    print(\"equal\")"
   ]
  },
  {
   "cell_type": "code",
   "execution_count": 30,
   "id": "e834ae88",
   "metadata": {},
   "outputs": [
    {
     "name": "stdout",
     "output_type": "stream",
     "text": [
      "Enter The Name5\n",
      "5\n"
     ]
    }
   ],
   "source": [
    "a = input(\"Enter The Name\");\n",
    "print(a[::-1]);"
   ]
  },
  {
   "cell_type": "markdown",
   "id": "2751f823",
   "metadata": {},
   "source": [
    "# ARRAY"
   ]
  },
  {
   "cell_type": "code",
   "execution_count": 31,
   "id": "8947dfd8",
   "metadata": {},
   "outputs": [
    {
     "data": {
      "text/plain": [
       "[1, 2, 3, 4, 'asad', True]"
      ]
     },
     "execution_count": 31,
     "metadata": {},
     "output_type": "execute_result"
    }
   ],
   "source": [
    "A = [1,2,3,4,\"asad\",True]\n",
    "A"
   ]
  },
  {
   "cell_type": "code",
   "execution_count": 33,
   "id": "0b272022",
   "metadata": {},
   "outputs": [
    {
     "data": {
      "text/plain": [
       "[1, 2, 3, 'Smit', 'Smit', 4, 'asad', True]"
      ]
     },
     "execution_count": 33,
     "metadata": {},
     "output_type": "execute_result"
    }
   ],
   "source": [
    "A.insert(3,\"Smit\")\n",
    "A"
   ]
  },
  {
   "cell_type": "code",
   "execution_count": 34,
   "id": "07a0f3a9",
   "metadata": {},
   "outputs": [
    {
     "data": {
      "text/plain": [
       "[1, 2, 3, 'Smit', 'Smit', 4, 'asad', True, False]"
      ]
     },
     "execution_count": 34,
     "metadata": {},
     "output_type": "execute_result"
    }
   ],
   "source": [
    "A.append(False);\n",
    "A"
   ]
  },
  {
   "cell_type": "code",
   "execution_count": 35,
   "id": "e7c658d3",
   "metadata": {},
   "outputs": [
    {
     "data": {
      "text/plain": [
       "['Smit']"
      ]
     },
     "execution_count": 35,
     "metadata": {},
     "output_type": "execute_result"
    }
   ],
   "source": [
    "A[3:4]\n",
    "\n",
    "#A[Start:end-1]"
   ]
  },
  {
   "cell_type": "code",
   "execution_count": 39,
   "id": "3ec9e762",
   "metadata": {},
   "outputs": [
    {
     "data": {
      "text/plain": [
       "['Smit', 'Smit', 4, 'asad', True, False]"
      ]
     },
     "execution_count": 39,
     "metadata": {},
     "output_type": "execute_result"
    }
   ],
   "source": [
    "A[3:]"
   ]
  },
  {
   "cell_type": "code",
   "execution_count": 41,
   "id": "795597ae",
   "metadata": {},
   "outputs": [],
   "source": [
    "del A[3]\n",
    "\n",
    "# Delete Through index"
   ]
  },
  {
   "cell_type": "code",
   "execution_count": 42,
   "id": "732e454a",
   "metadata": {},
   "outputs": [
    {
     "data": {
      "text/plain": [
       "[1, 2, 3, 'Smit', 4, 'asad', True, False]"
      ]
     },
     "execution_count": 42,
     "metadata": {},
     "output_type": "execute_result"
    }
   ],
   "source": [
    "A"
   ]
  },
  {
   "cell_type": "code",
   "execution_count": 47,
   "id": "4fe75232",
   "metadata": {},
   "outputs": [
    {
     "data": {
      "text/plain": [
       "[1, 2, 'Smit', 'asad', True, False]"
      ]
     },
     "execution_count": 47,
     "metadata": {},
     "output_type": "execute_result"
    }
   ],
   "source": [
    "A.remove(4);\n",
    "A\n",
    "\n",
    "#remove use to Delete throgh specific value"
   ]
  },
  {
   "cell_type": "code",
   "execution_count": 55,
   "id": "75dca10e",
   "metadata": {},
   "outputs": [
    {
     "data": {
      "text/plain": [
       "[]"
      ]
     },
     "execution_count": 55,
     "metadata": {},
     "output_type": "execute_result"
    }
   ],
   "source": [
    "A.clear()\n",
    "A\n",
    "# Clear is use to Remove All Element of Array"
   ]
  },
  {
   "cell_type": "markdown",
   "id": "2a81fff7",
   "metadata": {},
   "source": [
    "# For Loop"
   ]
  },
  {
   "cell_type": "code",
   "execution_count": 52,
   "id": "24dc6f38",
   "metadata": {},
   "outputs": [
    {
     "data": {
      "text/plain": [
       "[1, 3, 4]"
      ]
     },
     "execution_count": 52,
     "metadata": {},
     "output_type": "execute_result"
    }
   ],
   "source": [
    "A=[1,3,4]\n",
    "A"
   ]
  },
  {
   "cell_type": "code",
   "execution_count": 4,
   "id": "ad174188",
   "metadata": {},
   "outputs": [
    {
     "name": "stdout",
     "output_type": "stream",
     "text": [
      "0\n",
      "0\n",
      "5\n",
      "5\n",
      "10\n",
      "10\n",
      "15\n",
      "15\n",
      "20\n",
      "20\n",
      "25\n",
      "25\n",
      "30\n",
      "30\n",
      "35\n",
      "35\n",
      "40\n",
      "40\n",
      "45\n",
      "45\n",
      "50\n",
      "50\n",
      "55\n"
     ]
    }
   ],
   "source": [
    "\n",
    "for i in range(0,100,5):\n",
    "    if(i==55):\n",
    "        break;\n",
    "    print(i)\n",
    "          "
   ]
  },
  {
   "cell_type": "code",
   "execution_count": 15,
   "id": "f0e632b4",
   "metadata": {},
   "outputs": [
    {
     "name": "stdout",
     "output_type": "stream",
     "text": [
      "omer  No Salary\n",
      "Zubair  salary\n",
      "Asad  No Salary\n",
      "Jabbar  salary\n",
      "Farrooq  salary\n"
     ]
    }
   ],
   "source": [
    "arr=[\"omer\",\"Zubair\",\"Asad\",\"Jabbar\",\"Farrooq\"]\n",
    "for i in range(0,len(arr)):\n",
    "    if(arr[i] == \"omer\" or arr[i] == \"Asad\" ):\n",
    "        print(arr[i] + \"  No Salary\");\n",
    "    else:\n",
    "        print(arr[i] + \"  salary\")\n",
    "        "
   ]
  },
  {
   "cell_type": "code",
   "execution_count": 19,
   "id": "5204d2fe",
   "metadata": {},
   "outputs": [
    {
     "name": "stdout",
     "output_type": "stream",
     "text": [
      "omer omer\n",
      "omer Zubair\n",
      "Jabbar omer\n",
      "Jabbar Zubair\n"
     ]
    }
   ],
   "source": [
    "arr1 = [\"omer\",\"jabbar\",\"Farooq\"];\n",
    "arr2 = [\"khan\"]\n",
    "for i in (0,len(arr1)):\n",
    "    for j in (0,len(arr2)):\n",
    "        print(arr[i] + \" \" + arr[j])\n",
    "    "
   ]
  },
  {
   "cell_type": "code",
   "execution_count": 18,
   "id": "b929176c",
   "metadata": {},
   "outputs": [
    {
     "name": "stdout",
     "output_type": "stream",
     "text": [
      "12000\n",
      "2400.0\n",
      "200000\n",
      "no commision\n",
      "10000\n",
      "2000.0\n",
      "4000\n",
      "800.0\n",
      "[14400.0, 200000, 12000.0, 4800.0]\n"
     ]
    }
   ],
   "source": [
    "arr1 = [12000,200000,10000,4000]\n",
    "for i in range(0,len(arr1)):\n",
    "    print(arr1[i])\n",
    "    if(arr1[i]>100000):\n",
    "        print(\"no commision\")\n",
    "    else:\n",
    "        a = (arr1[i]/100)*20\n",
    "        print(a)\n",
    "        arr1[i] =arr1[i]+a\n",
    "        \n",
    "print(arr1)\n",
    "   \n"
   ]
  },
  {
   "cell_type": "code",
   "execution_count": 20,
   "id": "9b60115b",
   "metadata": {},
   "outputs": [
    {
     "name": "stdout",
     "output_type": "stream",
     "text": [
      "\n",
      "\n",
      "1\n",
      "\n",
      "22\n",
      "\n",
      "333\n",
      "\n",
      "4444\n",
      "\n"
     ]
    }
   ],
   "source": [
    "for i in range (0,5):\n",
    "    for j in range(0,i):\n",
    "        print(i ,end=\"\")\n",
    "    print(\"\\n\")"
   ]
  },
  {
   "cell_type": "code",
   "execution_count": null,
   "id": "ac67c6b0",
   "metadata": {},
   "outputs": [],
   "source": []
  }
 ],
 "metadata": {
  "kernelspec": {
   "display_name": "Python 3 (ipykernel)",
   "language": "python",
   "name": "python3"
  },
  "language_info": {
   "codemirror_mode": {
    "name": "ipython",
    "version": 3
   },
   "file_extension": ".py",
   "mimetype": "text/x-python",
   "name": "python",
   "nbconvert_exporter": "python",
   "pygments_lexer": "ipython3",
   "version": "3.9.7"
  }
 },
 "nbformat": 4,
 "nbformat_minor": 5
}
